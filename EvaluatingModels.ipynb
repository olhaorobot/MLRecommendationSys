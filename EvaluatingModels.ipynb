{
 "cells": [
  {
   "cell_type": "markdown",
   "metadata": {},
   "source": [
    "# Evaluating models"
   ]
  },
  {
   "cell_type": "markdown",
   "metadata": {},
   "source": [
    "Precision: How accurate the recommendations/predictions were\n",
    "\n",
    "Recall: How complete the recommendations/predictions were"
   ]
  },
  {
   "cell_type": "markdown",
   "metadata": {},
   "source": [
    "### Classification-based model to evaluate"
   ]
  },
  {
   "cell_type": "markdown",
   "metadata": {},
   "source": [
    "Is an existing client a potential good candidate for a product?"
   ]
  },
  {
   "cell_type": "code",
   "execution_count": 4,
   "metadata": {},
   "outputs": [],
   "source": [
    "import pandas as pd\n",
    "import numpy as np\n",
    "\n",
    "from pandas import Series, DataFrame\n",
    "from sklearn.linear_model import LogisticRegression\n",
    "from sklearn.metrics import classification_report\n"
   ]
  },
  {
   "cell_type": "markdown",
   "metadata": {},
   "source": [
    "Data from:\n",
    "    [Moro et al., 2014] S. Moro, P. Cortez and P. Rita. A Data-Driven Approach to Predict the Success of Bank Telemarketing. Decision Support Systems, Elsevier, 62:22-31, June 2014\n",
    "         (https://archive.ics.uci.edu/ml/datasets/Bank+Marketing#)"
   ]
  },
  {
   "cell_type": "code",
   "execution_count": 6,
   "metadata": {},
   "outputs": [
    {
     "name": "stdout",
     "output_type": "stream",
     "text": [
      "<class 'pandas.core.frame.DataFrame'>\n",
      "RangeIndex: 45211 entries, 0 to 45210\n",
      "Data columns (total 37 columns):\n",
      " #   Column                        Non-Null Count  Dtype \n",
      "---  ------                        --------------  ----- \n",
      " 0   age                           45211 non-null  int64 \n",
      " 1   job                           45211 non-null  object\n",
      " 2   marital                       45211 non-null  object\n",
      " 3   education                     45211 non-null  object\n",
      " 4   default                       45211 non-null  object\n",
      " 5   balance                       45211 non-null  int64 \n",
      " 6   housing                       45211 non-null  object\n",
      " 7   loan                          45211 non-null  object\n",
      " 8   contact                       45211 non-null  object\n",
      " 9   day                           45211 non-null  int64 \n",
      " 10  month                         45211 non-null  object\n",
      " 11  duration                      45211 non-null  int64 \n",
      " 12  campaign                      45211 non-null  int64 \n",
      " 13  pdays                         45211 non-null  int64 \n",
      " 14  previous                      45211 non-null  int64 \n",
      " 15  poutcome                      45211 non-null  object\n",
      " 16  y                             45211 non-null  object\n",
      " 17  y_binary                      45211 non-null  int64 \n",
      " 18  housing_loan                  45211 non-null  int64 \n",
      " 19  credit_in_default             45211 non-null  int64 \n",
      " 20  personal_loans                45211 non-null  int64 \n",
      " 21  prev_failed_to_subscribe      45211 non-null  int64 \n",
      " 22  prev_subscribed               45211 non-null  int64 \n",
      " 23  job_management                45211 non-null  int64 \n",
      " 24  job_tech                      45211 non-null  int64 \n",
      " 25  job_entrepreneur              45211 non-null  int64 \n",
      " 26  job_bluecollar                45211 non-null  int64 \n",
      " 27  job_unknown                   45211 non-null  int64 \n",
      " 28  job_retired                   45211 non-null  int64 \n",
      " 29  job_services                  45211 non-null  int64 \n",
      " 30  job_self_employed             45211 non-null  int64 \n",
      " 31  job_unemployed                45211 non-null  int64 \n",
      " 32  job_maid                      45211 non-null  int64 \n",
      " 33  job_student                   45211 non-null  int64 \n",
      " 34  married                       45211 non-null  int64 \n",
      " 35  single                        45211 non-null  int64 \n",
      " 36  divorced                      45211 non-null  int64 \n",
      "dtypes: int64(27), object(10)\n",
      "memory usage: 12.8+ MB\n"
     ]
    }
   ],
   "source": [
    "bank = pd.read_csv('bank.csv')\n",
    "bank.info()\n"
   ]
  },
  {
   "cell_type": "markdown",
   "metadata": {},
   "source": [
    "#### We select the relevant columns"
   ]
  },
  {
   "cell_type": "code",
   "execution_count": 8,
   "metadata": {},
   "outputs": [],
   "source": [
    "x = bank.iloc[:,18:37].values\n",
    "\n",
    "y = bank.iloc[:,17].values"
   ]
  },
  {
   "cell_type": "code",
   "execution_count": 9,
   "metadata": {},
   "outputs": [],
   "source": [
    "LogReg = LogisticRegression()\n",
    "LogReg.fit(x,y)\n",
    "\n",
    "y_pred = LogReg.predict(x)"
   ]
  },
  {
   "cell_type": "markdown",
   "metadata": {},
   "source": [
    "#### Evaluating the performance of the model "
   ]
  },
  {
   "cell_type": "code",
   "execution_count": 11,
   "metadata": {},
   "outputs": [
    {
     "name": "stdout",
     "output_type": "stream",
     "text": [
      "              precision    recall  f1-score   support\n",
      "\n",
      "           0       0.90      0.99      0.94     39922\n",
      "           1       0.67      0.17      0.27      5289\n",
      "\n",
      "    accuracy                           0.89     45211\n",
      "   macro avg       0.79      0.58      0.61     45211\n",
      "weighted avg       0.87      0.89      0.86     45211\n",
      "\n"
     ]
    }
   ],
   "source": [
    "print(classification_report(y, y_pred))"
   ]
  },
  {
   "cell_type": "markdown",
   "metadata": {},
   "source": [
    "* #### Precision: 87% \n",
    "This means 87% of the offers made to customers were liked"
   ]
  },
  {
   "cell_type": "markdown",
   "metadata": {},
   "source": [
    "* #### Recall: 89% \n",
    "This means 89% of all the products customers liked were offered to them"
   ]
  },
  {
   "cell_type": "code",
   "execution_count": null,
   "metadata": {},
   "outputs": [],
   "source": []
  }
 ],
 "metadata": {
  "kernelspec": {
   "display_name": "Python 3",
   "language": "python",
   "name": "python3"
  },
  "language_info": {
   "codemirror_mode": {
    "name": "ipython",
    "version": 3
   },
   "file_extension": ".py",
   "mimetype": "text/x-python",
   "name": "python",
   "nbconvert_exporter": "python",
   "pygments_lexer": "ipython3",
   "version": "3.7.4"
  }
 },
 "nbformat": 4,
 "nbformat_minor": 4
}
